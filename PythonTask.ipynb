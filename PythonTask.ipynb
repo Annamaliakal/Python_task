{
 "cells": [
  {
   "cell_type": "code",
   "execution_count": 27,
   "metadata": {},
   "outputs": [
    {
     "name": "stdout",
     "output_type": "stream",
     "text": [
      "Enter your name:\n",
      "Anna\n",
      "Enter your stack of interest:\n",
      "1.Python \n",
      "2.Go \n",
      "3.Flutter \n",
      "4.Web\n",
      "Python\n",
      "Are you a mentor or learner (enter input as such):\n",
      "learner\n"
     ]
    }
   ],
   "source": [
    "class learnormentor():\n",
    "\n",
    "    stat=\"none\"\n",
    "    def __init__(self):\n",
    "        print(\"Enter your name:\")\n",
    "        name=input()\n",
    "        self.name=name\n",
    "        \n",
    "    \n",
    "    def addStacks(self):\n",
    "        print(\"Enter your stack of interest:\\n1.Python \\n2.Go \\n3.Flutter \\n4.Web\")\n",
    "        s=input()\n",
    "        self.stack=s\n",
    "        \n",
    "        \n",
    "    def setMentorOrLearner(self):\n",
    "        print(\"Are you a mentor or learner (enter input as such):\")\n",
    "        self.stat=input()\n",
    "        self.status=self.stat\n",
    "\n",
    "        \n",
    "        \n",
    "    def setAvailableTime(self):\n",
    "        \n",
    "        if self.status==\"mentor\": #can use stat or self.status since only after calling setMentorOrLearner() we will call this function\n",
    "            print(\"Time of availability:\")\n",
    "            t=input()\n",
    "            self.time=t\n",
    "            \n",
    "            \n",
    "    def getMentor(self,stack,time):\n",
    "        if self.stat==\"mentor\":                 #cannot use self.status since error occurs if getMentor() is called before setMentorOrLearner() \n",
    "            if(self.stack==stack and self.time==time):\n",
    "                print(\"Mentor available\")\n",
    "                print(\"Details:\")\n",
    "                print(\"Mentor Name\",self.name)\n",
    "            else:\n",
    "                print(\"None available\")\n",
    "        \n",
    "     \n",
    "ob=learnormentor()\n",
    "ob.addStacks()\n",
    "ob.setMentorOrLearner()\n",
    "ob.setAvailableTime()\n",
    "ob.getMentor(\"Go\",\"2\")\n",
    "        \n"
   ]
  },
  {
   "cell_type": "code",
   "execution_count": 28,
   "metadata": {},
   "outputs": [
    {
     "name": "stdout",
     "output_type": "stream",
     "text": [
      "Mentor available\n",
      "Details:\n",
      "Abc\n"
     ]
    }
   ],
   "source": [
    "ob1.getMentor(\"Go\",\"2\")"
   ]
  },
  {
   "cell_type": "code",
   "execution_count": 29,
   "metadata": {},
   "outputs": [
    {
     "name": "stdout",
     "output_type": "stream",
     "text": [
      "Enter your name:\n",
      "abc\n",
      "Enter your stack of interest:\n",
      "1.Python \n",
      "2.Go \n",
      "3.Flutter \n",
      "4.Web\n",
      "Go\n",
      "Are you a mentor or learner (enter input as such):\n",
      "mentor\n",
      "Time of availability:\n",
      "2\n"
     ]
    }
   ],
   "source": [
    "ob1=learnormentor()\n",
    "ob1.addStacks()\n",
    "ob1.setMentorOrLearner()\n",
    "ob1.setAvailableTime()\n"
   ]
  },
  {
   "cell_type": "code",
   "execution_count": 30,
   "metadata": {},
   "outputs": [
    {
     "name": "stdout",
     "output_type": "stream",
     "text": [
      "Mentor available\n",
      "Details:\n",
      "Mentor Name abc\n"
     ]
    }
   ],
   "source": [
    "ob1.getMentor(\"Go\",\"2\")"
   ]
  }
 ],
 "metadata": {
  "kernelspec": {
   "display_name": "Python 3",
   "language": "python",
   "name": "python3"
  },
  "language_info": {
   "codemirror_mode": {
    "name": "ipython",
    "version": 3
   },
   "file_extension": ".py",
   "mimetype": "text/x-python",
   "name": "python",
   "nbconvert_exporter": "python",
   "pygments_lexer": "ipython3",
   "version": "3.7.1"
  }
 },
 "nbformat": 4,
 "nbformat_minor": 2
}
